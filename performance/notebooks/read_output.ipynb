{
 "cells": [
  {
   "cell_type": "code",
   "execution_count": 334,
   "id": "79723a12",
   "metadata": {},
   "outputs": [],
   "source": [
    "import pandas as pd\n",
    "import json\n",
    "import glob\n",
    "import itertools\n",
    "\n",
    "def dedupe(k):\n",
    "    k.sort()\n",
    "    return list(k for k,_ in itertools.groupby(k))"
   ]
  },
  {
   "cell_type": "code",
   "execution_count": 377,
   "id": "1a57fee7",
   "metadata": {},
   "outputs": [],
   "source": [
    "df = []\n",
    "for fp in glob.glob(\"../*.json\"):\n",
    "    with open(fp, 'r') as file:\n",
    "        d = json.load(file)\n",
    "        df.append(pd.json_normalize(d))"
   ]
  },
  {
   "cell_type": "code",
   "execution_count": 378,
   "id": "49f03d74",
   "metadata": {},
   "outputs": [],
   "source": [
    "df = pd.concat(df)\n",
    "df['correct'] = df[\"true\"] == df[\"prediction.clue\"]"
   ]
  },
  {
   "cell_type": "code",
   "execution_count": 379,
   "id": "33941288",
   "metadata": {},
   "outputs": [],
   "source": [
    "bad_tasks = [-211950127084943975, 2704333446108177290, -2291809755259426270, 1038356832316350171, \n",
    "             -8850885074809592414, 8113065641356338218, 327989699109363352, 8795692948402043846, -4473970270804012794,\n",
    "            2664444452045579339, -5412451596820381002, -424210961467812871, 2680223075587281955,\n",
    "            8370818600640760487, -5838975061206382918, -7174004820279856653, -2827548842012971459, 699748936081512751,\n",
    "             950962217963898153]"
   ]
  },
  {
   "cell_type": "code",
   "execution_count": 382,
   "id": "0dd872d0",
   "metadata": {},
   "outputs": [],
   "source": [
    "hash_l_map = {hash(tuple(l)):l for l in dedupe(df.words_to_hit.values.tolist())}\n",
    "df['task_hash'] = df.words_to_hit.apply(lambda x: hash(tuple(x)))"
   ]
  },
  {
   "cell_type": "code",
   "execution_count": 383,
   "id": "2297cf64",
   "metadata": {},
   "outputs": [],
   "source": [
    "df = df[~df['task_hash'].isin(bad_tasks)]"
   ]
  },
  {
   "cell_type": "code",
   "execution_count": 384,
   "id": "f0461c83",
   "metadata": {},
   "outputs": [],
   "source": [
    "model_groupers = ['model_name', 'threshold', 'algorithm']\n",
    "precision_groupers = ['model_name', 'threshold', 'algorithm', 'task_hash']"
   ]
  },
  {
   "cell_type": "code",
   "execution_count": 385,
   "id": "5cc252af",
   "metadata": {},
   "outputs": [
    {
     "name": "stderr",
     "output_type": "stream",
     "text": [
      "/var/folders/05/qwnb9n592gndwnbn3qr4l40h0000gn/T/ipykernel_1815/203688535.py:1: SettingWithCopyWarning: \n",
      "A value is trying to be set on a copy of a slice from a DataFrame.\n",
      "Try using .loc[row_indexer,col_indexer] = value instead\n",
      "\n",
      "See the caveats in the documentation: https://pandas.pydata.org/pandas-docs/stable/user_guide/indexing.html#returning-a-view-versus-a-copy\n",
      "  df['rank'] = df.groupby(precision_groupers).cumcount()\n"
     ]
    }
   ],
   "source": [
    "df['rank'] = df.groupby(precision_groupers).cumcount()"
   ]
  },
  {
   "cell_type": "code",
   "execution_count": 386,
   "id": "56926437",
   "metadata": {},
   "outputs": [],
   "source": [
    "found_at_20 = df.groupby(precision_groupers).apply(lambda x: 1 if sum(x[\"correct\"] > 0) else 0).reset_index(name='found@20')\n",
    "df = pd.merge(df, found_at_20, how='left', on=precision_groupers)"
   ]
  },
  {
   "cell_type": "code",
   "execution_count": 387,
   "id": "f480115c",
   "metadata": {},
   "outputs": [],
   "source": [
    "found_at_10 = df[df['rank']<11].groupby(precision_groupers).apply(lambda x: 1 if sum(x[\"correct\"] > 0) else 0).reset_index(name='found@10')\n",
    "df = pd.merge(df, found_at_10, how='left', on=precision_groupers)"
   ]
  },
  {
   "cell_type": "code",
   "execution_count": 388,
   "id": "99f17452",
   "metadata": {},
   "outputs": [],
   "source": [
    "found_at_5 = df[df['rank']<6].groupby(precision_groupers).apply(lambda x: 1 if sum(x[\"correct\"] > 0) else 0).reset_index(name='found@5')\n",
    "df = pd.merge(df, found_at_5, how='left', on=precision_groupers)"
   ]
  },
  {
   "cell_type": "code",
   "execution_count": 391,
   "id": "48e163b5",
   "metadata": {},
   "outputs": [
    {
     "data": {
      "text/plain": [
       "model_name  threshold  algorithm             \n",
       "fasttext    0.500000   MeanIndividualDistance    0.050633\n",
       "            0.428571   SummedNearestNeighbour    0.050633\n",
       "                       MeanIndividualDistance    0.050633\n",
       "            0.285714   SummedNearestNeighbour    0.050633\n",
       "paragram    0.071429   SummedNearestNeighbour    0.050633\n",
       "fasttext    0.500000   SummedNearestNeighbour    0.050633\n",
       "paragram    0.142857   SummedNearestNeighbour    0.050633\n",
       "            0.214286   SummedNearestNeighbour    0.063291\n",
       "fasttext    0.071429   MeanIndividualDistance    0.075949\n",
       "            0.285714   MeanIndividualDistance    0.075949\n",
       "            0.000000   MeanIndividualDistance    0.075949\n",
       "            0.214286   MeanIndividualDistance    0.075949\n",
       "            0.142857   MeanIndividualDistance    0.075949\n",
       "            0.357143   SummedNearestNeighbour    0.088608\n",
       "glove       0.285714   SummedNearestNeighbour    0.088608\n",
       "fasttext    0.357143   MeanIndividualDistance    0.088608\n",
       "glove       0.214286   SummedNearestNeighbour    0.101266\n",
       "            0.071429   SummedNearestNeighbour    0.113924\n",
       "            0.000000   SummedNearestNeighbour    0.113924\n",
       "            0.142857   SummedNearestNeighbour    0.126582\n",
       "Name: found@5, dtype: float64"
      ]
     },
     "execution_count": 391,
     "metadata": {},
     "output_type": "execute_result"
    }
   ],
   "source": [
    "df.groupby(['model_name', 'threshold', 'algorithm'])[\"found@5\"].mean().sort_values().tail(20)"
   ]
  },
  {
   "cell_type": "code",
   "execution_count": 392,
   "id": "847a0867",
   "metadata": {},
   "outputs": [],
   "source": [
    "winner = df[(df['model_name']=='glove')&((df['threshold']>0.13)&(df['threshold']<0.15))&(df['algorithm']=='SummedNearestNeighbour')]"
   ]
  },
  {
   "cell_type": "code",
   "execution_count": 396,
   "id": "84915375",
   "metadata": {},
   "outputs": [
    {
     "data": {
      "text/html": [
       "<div>\n",
       "<style scoped>\n",
       "    .dataframe tbody tr th:only-of-type {\n",
       "        vertical-align: middle;\n",
       "    }\n",
       "\n",
       "    .dataframe tbody tr th {\n",
       "        vertical-align: top;\n",
       "    }\n",
       "\n",
       "    .dataframe thead th {\n",
       "        text-align: right;\n",
       "    }\n",
       "</style>\n",
       "<table border=\"1\" class=\"dataframe\">\n",
       "  <thead>\n",
       "    <tr style=\"text-align: right;\">\n",
       "      <th></th>\n",
       "      <th>model_name</th>\n",
       "      <th>threshold</th>\n",
       "      <th>algorithm</th>\n",
       "      <th>words_to_hit</th>\n",
       "      <th>true</th>\n",
       "      <th>prediction.clue</th>\n",
       "      <th>prediction.similarity</th>\n",
       "      <th>prediction.linked_words</th>\n",
       "      <th>prediction.score</th>\n",
       "      <th>prediction.num_words_linked</th>\n",
       "      <th>correct</th>\n",
       "      <th>task_hash</th>\n",
       "      <th>rank</th>\n",
       "      <th>found@20</th>\n",
       "      <th>found@10</th>\n",
       "      <th>found@5</th>\n",
       "    </tr>\n",
       "  </thead>\n",
       "  <tbody>\n",
       "    <tr>\n",
       "      <th>8300</th>\n",
       "      <td>glove</td>\n",
       "      <td>0.142857</td>\n",
       "      <td>SummedNearestNeighbour</td>\n",
       "      <td>[alps, europe]</td>\n",
       "      <td>france</td>\n",
       "      <td>pyrenees</td>\n",
       "      <td>0.550288</td>\n",
       "      <td>[alps, europe]</td>\n",
       "      <td>0.778225</td>\n",
       "      <td>2</td>\n",
       "      <td>False</td>\n",
       "      <td>-8730468947444872091</td>\n",
       "      <td>0</td>\n",
       "      <td>1</td>\n",
       "      <td>1</td>\n",
       "      <td>1</td>\n",
       "    </tr>\n",
       "    <tr>\n",
       "      <th>8301</th>\n",
       "      <td>glove</td>\n",
       "      <td>0.142857</td>\n",
       "      <td>SummedNearestNeighbour</td>\n",
       "      <td>[alps, europe]</td>\n",
       "      <td>france</td>\n",
       "      <td>scandinavia</td>\n",
       "      <td>0.547306</td>\n",
       "      <td>[alps, europe]</td>\n",
       "      <td>0.774008</td>\n",
       "      <td>2</td>\n",
       "      <td>False</td>\n",
       "      <td>-8730468947444872091</td>\n",
       "      <td>1</td>\n",
       "      <td>1</td>\n",
       "      <td>1</td>\n",
       "      <td>1</td>\n",
       "    </tr>\n",
       "    <tr>\n",
       "      <th>8302</th>\n",
       "      <td>glove</td>\n",
       "      <td>0.142857</td>\n",
       "      <td>SummedNearestNeighbour</td>\n",
       "      <td>[alps, europe]</td>\n",
       "      <td>france</td>\n",
       "      <td>france</td>\n",
       "      <td>0.525593</td>\n",
       "      <td>[alps, europe]</td>\n",
       "      <td>0.743300</td>\n",
       "      <td>2</td>\n",
       "      <td>True</td>\n",
       "      <td>-8730468947444872091</td>\n",
       "      <td>2</td>\n",
       "      <td>1</td>\n",
       "      <td>1</td>\n",
       "      <td>1</td>\n",
       "    </tr>\n",
       "    <tr>\n",
       "      <th>8303</th>\n",
       "      <td>glove</td>\n",
       "      <td>0.142857</td>\n",
       "      <td>SummedNearestNeighbour</td>\n",
       "      <td>[alps, europe]</td>\n",
       "      <td>france</td>\n",
       "      <td>italy</td>\n",
       "      <td>0.519630</td>\n",
       "      <td>[alps, europe]</td>\n",
       "      <td>0.734867</td>\n",
       "      <td>2</td>\n",
       "      <td>False</td>\n",
       "      <td>-8730468947444872091</td>\n",
       "      <td>3</td>\n",
       "      <td>1</td>\n",
       "      <td>1</td>\n",
       "      <td>1</td>\n",
       "    </tr>\n",
       "    <tr>\n",
       "      <th>8304</th>\n",
       "      <td>glove</td>\n",
       "      <td>0.142857</td>\n",
       "      <td>SummedNearestNeighbour</td>\n",
       "      <td>[alps, europe]</td>\n",
       "      <td>france</td>\n",
       "      <td>asia</td>\n",
       "      <td>0.504477</td>\n",
       "      <td>[alps, europe]</td>\n",
       "      <td>0.713439</td>\n",
       "      <td>2</td>\n",
       "      <td>False</td>\n",
       "      <td>-8730468947444872091</td>\n",
       "      <td>4</td>\n",
       "      <td>1</td>\n",
       "      <td>1</td>\n",
       "      <td>1</td>\n",
       "    </tr>\n",
       "  </tbody>\n",
       "</table>\n",
       "</div>"
      ],
      "text/plain": [
       "     model_name  threshold               algorithm    words_to_hit    true  \\\n",
       "8300      glove   0.142857  SummedNearestNeighbour  [alps, europe]  france   \n",
       "8301      glove   0.142857  SummedNearestNeighbour  [alps, europe]  france   \n",
       "8302      glove   0.142857  SummedNearestNeighbour  [alps, europe]  france   \n",
       "8303      glove   0.142857  SummedNearestNeighbour  [alps, europe]  france   \n",
       "8304      glove   0.142857  SummedNearestNeighbour  [alps, europe]  france   \n",
       "\n",
       "     prediction.clue  prediction.similarity prediction.linked_words  \\\n",
       "8300        pyrenees               0.550288          [alps, europe]   \n",
       "8301     scandinavia               0.547306          [alps, europe]   \n",
       "8302          france               0.525593          [alps, europe]   \n",
       "8303           italy               0.519630          [alps, europe]   \n",
       "8304            asia               0.504477          [alps, europe]   \n",
       "\n",
       "      prediction.score  prediction.num_words_linked  correct  \\\n",
       "8300          0.778225                            2    False   \n",
       "8301          0.774008                            2    False   \n",
       "8302          0.743300                            2     True   \n",
       "8303          0.734867                            2    False   \n",
       "8304          0.713439                            2    False   \n",
       "\n",
       "                task_hash  rank  found@20  found@10  found@5  \n",
       "8300 -8730468947444872091     0         1         1        1  \n",
       "8301 -8730468947444872091     1         1         1        1  \n",
       "8302 -8730468947444872091     2         1         1        1  \n",
       "8303 -8730468947444872091     3         1         1        1  \n",
       "8304 -8730468947444872091     4         1         1        1  "
      ]
     },
     "execution_count": 396,
     "metadata": {},
     "output_type": "execute_result"
    }
   ],
   "source": [
    "winner[(winner[\"found@5\"]==1)&(winner['rank']<6)].head(5)"
   ]
  },
  {
   "cell_type": "code",
   "execution_count": null,
   "id": "3ba3cfbc",
   "metadata": {},
   "outputs": [],
   "source": []
  }
 ],
 "metadata": {
  "kernelspec": {
   "display_name": "Python 3 (ipykernel)",
   "language": "python",
   "name": "python3"
  },
  "language_info": {
   "codemirror_mode": {
    "name": "ipython",
    "version": 3
   },
   "file_extension": ".py",
   "mimetype": "text/x-python",
   "name": "python",
   "nbconvert_exporter": "python",
   "pygments_lexer": "ipython3",
   "version": "3.10.4"
  }
 },
 "nbformat": 4,
 "nbformat_minor": 5
}
